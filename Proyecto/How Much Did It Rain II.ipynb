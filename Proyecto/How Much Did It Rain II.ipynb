{
 "cells": [
  {
   "cell_type": "code",
   "execution_count": 1,
   "id": "38a62144",
   "metadata": {},
   "outputs": [],
   "source": [
    "import numpy as np\n",
    "import pandas as pd\n",
    "from sklearn.model_selection import train_test_split\n",
    "from sklearn.ensemble import RandomForestRegressor\n",
    "from sklearn.metrics import mean_absolute_error"
   ]
  },
  {
   "cell_type": "code",
   "execution_count": 2,
   "id": "9b76f5b3",
   "metadata": {},
   "outputs": [],
   "source": [
    "# Cargar datos de entrenamiento\n",
    "train = pd.read_csv('train.csv')\n",
    "train[train.columns[1:]] = train[train.columns[1:]].astype(np.float32)\n",
    "train.fillna(0, inplace=True)\n",
    "\n",
    "# Remover outliers\n",
    "train = train[train['Expected'] < 108]\n",
    "\n",
    "# Agrupar por Id\n",
    "train_groups = train.groupby(\"Id\")\n",
    "train_size = len(train_groups)\n",
    "MAX_SEQ_LEN = train_groups.size().max()\n",
    "N_FEATURES = 21\n",
    "\n",
    "# Crear X_train y y_train\n",
    "X_train = np.zeros((train_size, MAX_SEQ_LEN, N_FEATURES), dtype=np.float32)\n",
    "y_train = np.zeros(train_size, dtype=np.float32)\n",
    "\n",
    "i = 0\n",
    "for _, group in train_groups:\n",
    "    X = group.values\n",
    "    seq_len = X.shape[0]\n",
    "    X_train[i, :seq_len, :] = X[:, 2:23]\n",
    "    y_train[i] = X[0, 23]\n",
    "    i += 1\n"
   ]
  },
  {
   "cell_type": "code",
   "execution_count": 3,
   "id": "b7249776",
   "metadata": {},
   "outputs": [],
   "source": [
    "# Dividir datos de entrenamiento en entrenamiento y validación\n",
    "X_train_rf, X_val_rf, y_train_rf, y_val_rf = train_test_split(X_train.reshape((X_train.shape[0], -1)), y_train, test_size=0.2, random_state=42)"
   ]
  },
  {
   "cell_type": "code",
   "execution_count": 4,
   "id": "acb8b919",
   "metadata": {},
   "outputs": [],
   "source": [
    "# Crear modelo de Random Forest con parámetros ajustados para velocidad\n",
    "rf_model = RandomForestRegressor(\n",
    "    n_estimators=50,       # Reducir el número de árboles\n",
    "    max_depth=10,          # Limitar la profundidad máxima de los árboles\n",
    "    max_features='sqrt',   # Utilizar una fracción de las características en cada división\n",
    "    max_samples=0.8,       # Usar una fracción de los datos para cada árbol\n",
    "    n_jobs=-1,             # Usar todos los núcleos de la CPU disponibles\n",
    "    random_state=42\n",
    ")\n"
   ]
  },
  {
   "cell_type": "code",
   "execution_count": 5,
   "id": "a53f5a60",
   "metadata": {},
   "outputs": [
    {
     "data": {
      "text/html": [
       "<style>#sk-container-id-1 {color: black;}#sk-container-id-1 pre{padding: 0;}#sk-container-id-1 div.sk-toggleable {background-color: white;}#sk-container-id-1 label.sk-toggleable__label {cursor: pointer;display: block;width: 100%;margin-bottom: 0;padding: 0.3em;box-sizing: border-box;text-align: center;}#sk-container-id-1 label.sk-toggleable__label-arrow:before {content: \"▸\";float: left;margin-right: 0.25em;color: #696969;}#sk-container-id-1 label.sk-toggleable__label-arrow:hover:before {color: black;}#sk-container-id-1 div.sk-estimator:hover label.sk-toggleable__label-arrow:before {color: black;}#sk-container-id-1 div.sk-toggleable__content {max-height: 0;max-width: 0;overflow: hidden;text-align: left;background-color: #f0f8ff;}#sk-container-id-1 div.sk-toggleable__content pre {margin: 0.2em;color: black;border-radius: 0.25em;background-color: #f0f8ff;}#sk-container-id-1 input.sk-toggleable__control:checked~div.sk-toggleable__content {max-height: 200px;max-width: 100%;overflow: auto;}#sk-container-id-1 input.sk-toggleable__control:checked~label.sk-toggleable__label-arrow:before {content: \"▾\";}#sk-container-id-1 div.sk-estimator input.sk-toggleable__control:checked~label.sk-toggleable__label {background-color: #d4ebff;}#sk-container-id-1 div.sk-label input.sk-toggleable__control:checked~label.sk-toggleable__label {background-color: #d4ebff;}#sk-container-id-1 input.sk-hidden--visually {border: 0;clip: rect(1px 1px 1px 1px);clip: rect(1px, 1px, 1px, 1px);height: 1px;margin: -1px;overflow: hidden;padding: 0;position: absolute;width: 1px;}#sk-container-id-1 div.sk-estimator {font-family: monospace;background-color: #f0f8ff;border: 1px dotted black;border-radius: 0.25em;box-sizing: border-box;margin-bottom: 0.5em;}#sk-container-id-1 div.sk-estimator:hover {background-color: #d4ebff;}#sk-container-id-1 div.sk-parallel-item::after {content: \"\";width: 100%;border-bottom: 1px solid gray;flex-grow: 1;}#sk-container-id-1 div.sk-label:hover label.sk-toggleable__label {background-color: #d4ebff;}#sk-container-id-1 div.sk-serial::before {content: \"\";position: absolute;border-left: 1px solid gray;box-sizing: border-box;top: 0;bottom: 0;left: 50%;z-index: 0;}#sk-container-id-1 div.sk-serial {display: flex;flex-direction: column;align-items: center;background-color: white;padding-right: 0.2em;padding-left: 0.2em;position: relative;}#sk-container-id-1 div.sk-item {position: relative;z-index: 1;}#sk-container-id-1 div.sk-parallel {display: flex;align-items: stretch;justify-content: center;background-color: white;position: relative;}#sk-container-id-1 div.sk-item::before, #sk-container-id-1 div.sk-parallel-item::before {content: \"\";position: absolute;border-left: 1px solid gray;box-sizing: border-box;top: 0;bottom: 0;left: 50%;z-index: -1;}#sk-container-id-1 div.sk-parallel-item {display: flex;flex-direction: column;z-index: 1;position: relative;background-color: white;}#sk-container-id-1 div.sk-parallel-item:first-child::after {align-self: flex-end;width: 50%;}#sk-container-id-1 div.sk-parallel-item:last-child::after {align-self: flex-start;width: 50%;}#sk-container-id-1 div.sk-parallel-item:only-child::after {width: 0;}#sk-container-id-1 div.sk-dashed-wrapped {border: 1px dashed gray;margin: 0 0.4em 0.5em 0.4em;box-sizing: border-box;padding-bottom: 0.4em;background-color: white;}#sk-container-id-1 div.sk-label label {font-family: monospace;font-weight: bold;display: inline-block;line-height: 1.2em;}#sk-container-id-1 div.sk-label-container {text-align: center;}#sk-container-id-1 div.sk-container {/* jupyter's `normalize.less` sets `[hidden] { display: none; }` but bootstrap.min.css set `[hidden] { display: none !important; }` so we also need the `!important` here to be able to override the default hidden behavior on the sphinx rendered scikit-learn.org. See: https://github.com/scikit-learn/scikit-learn/issues/21755 */display: inline-block !important;position: relative;}#sk-container-id-1 div.sk-text-repr-fallback {display: none;}</style><div id=\"sk-container-id-1\" class=\"sk-top-container\"><div class=\"sk-text-repr-fallback\"><pre>RandomForestRegressor(max_depth=10, max_features=&#x27;sqrt&#x27;, max_samples=0.8,\n",
       "                      n_estimators=50, n_jobs=-1, random_state=42)</pre><b>In a Jupyter environment, please rerun this cell to show the HTML representation or trust the notebook. <br />On GitHub, the HTML representation is unable to render, please try loading this page with nbviewer.org.</b></div><div class=\"sk-container\" hidden><div class=\"sk-item\"><div class=\"sk-estimator sk-toggleable\"><input class=\"sk-toggleable__control sk-hidden--visually\" id=\"sk-estimator-id-1\" type=\"checkbox\" checked><label for=\"sk-estimator-id-1\" class=\"sk-toggleable__label sk-toggleable__label-arrow\">RandomForestRegressor</label><div class=\"sk-toggleable__content\"><pre>RandomForestRegressor(max_depth=10, max_features=&#x27;sqrt&#x27;, max_samples=0.8,\n",
       "                      n_estimators=50, n_jobs=-1, random_state=42)</pre></div></div></div></div></div>"
      ],
      "text/plain": [
       "RandomForestRegressor(max_depth=10, max_features='sqrt', max_samples=0.8,\n",
       "                      n_estimators=50, n_jobs=-1, random_state=42)"
      ]
     },
     "execution_count": 5,
     "metadata": {},
     "output_type": "execute_result"
    }
   ],
   "source": [
    "# Entrenar el modelo\n",
    "rf_model.fit(X_train_rf, y_train_rf)"
   ]
  },
  {
   "cell_type": "code",
   "execution_count": 6,
   "id": "b94d63af",
   "metadata": {},
   "outputs": [],
   "source": [
    "# Predecir en datos de validación\n",
    "y_pred_rf = rf_model.predict(X_val_rf)"
   ]
  },
  {
   "cell_type": "code",
   "execution_count": 7,
   "id": "dc94d708",
   "metadata": {
    "scrolled": true
   },
   "outputs": [
    {
     "name": "stdout",
     "output_type": "stream",
     "text": [
      "MAE en validación (Random Forest): 3.971944352351299\n"
     ]
    }
   ],
   "source": [
    "# Calcular el error absoluto medio en validación\n",
    "mae_rf = mean_absolute_error(y_val_rf, y_pred_rf)\n",
    "print(f'MAE en validación (Random Forest): {mae_rf}')"
   ]
  },
  {
   "cell_type": "code",
   "execution_count": 11,
   "id": "8d381976",
   "metadata": {},
   "outputs": [],
   "source": [
    "# Preparar datos de prueba\n",
    "test_df = pd.read_csv('test.csv')\n",
    "test_df[test_df.columns[1:]] = test_df[test_df.columns[1:]].astype(np.float32)\n",
    "test_df.fillna(0, inplace=True)\n",
    "test_groups = test_df.groupby(\"Id\")\n",
    "test_size = len(test_groups)\n",
    "\n",
    "# Obtener IDs de test\n",
    "test_ids = list(test_groups.groups.keys())\n",
    "\n",
    "# Crear X_test\n",
    "X_test = np.zeros((test_size, MAX_SEQ_LEN, N_FEATURES), dtype=np.float32)\n",
    "\n",
    "i = 0\n",
    "for _, group in test_groups:\n",
    "    X = group.values\n",
    "    seq_len = X.shape[0]\n",
    "    X_test[i, :seq_len, :] = X[:, 2:23]\n",
    "    i += 1\n",
    "\n",
    "# Predecir en datos de prueba\n",
    "y_pred_test_rf = rf_model.predict(X_test.reshape((X_test.shape[0], -1)))"
   ]
  },
  {
   "cell_type": "code",
   "execution_count": 12,
   "id": "95576baa",
   "metadata": {},
   "outputs": [],
   "source": [
    "# Crear archivo de sumisión\n",
    "submission = pd.DataFrame({'Id': test_ids, 'Expected': y_pred_test_rf})\n",
    "submission.to_csv('sample_submission.csv', index=False)"
   ]
  }
 ],
 "metadata": {
  "kernelspec": {
   "display_name": "Python 3 (ipykernel)",
   "language": "python",
   "name": "python3"
  },
  "language_info": {
   "codemirror_mode": {
    "name": "ipython",
    "version": 3
   },
   "file_extension": ".py",
   "mimetype": "text/x-python",
   "name": "python",
   "nbconvert_exporter": "python",
   "pygments_lexer": "ipython3",
   "version": "3.11.5"
  }
 },
 "nbformat": 4,
 "nbformat_minor": 5
}
